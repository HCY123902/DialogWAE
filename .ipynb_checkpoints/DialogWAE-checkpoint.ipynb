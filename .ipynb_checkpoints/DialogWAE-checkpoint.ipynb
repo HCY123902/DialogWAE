{
 "cells": [
  {
   "cell_type": "code",
   "execution_count": 2,
   "metadata": {},
   "outputs": [
    {
     "name": "stdout",
     "output_type": "stream",
     "text": [
      "{'data_path': './data/', 'dataset': 'DailyDial', 'model': 'DialogWAE', 'expname': 'basic', 'visual': True, 'reload_from': -1, 'gpu_id': 0, 'anchor': 1, 'sample': False, 'log_every': 100, 'valid_every': 400, 'eval_every': 2, 'seed': 1111}\n",
      "Max utt len 125, mean utt len 15.30\n",
      "Max utt len 91, mean utt len 14.83\n",
      "Max utt len 128, mean utt len 15.97\n",
      "Load corpus with train size 2, valid size 2, test size 2 raw vocab size 26510 vocab size 10000 at cut_off 3 OOV rate 0.024050\n",
      "<d> index 22\n",
      "<sil> index -1\n",
      "word2vec cannot cover 0.351730 vocab\n",
      "Done loading corpus\n",
      "Max len 168 and min len 3 and avg len 11.039438\n",
      "Max len 69 and min len 3 and avg len 10.995516\n",
      "Max len 192 and min len 3 and avg len 13.377465\n",
      "Loaded data!\n",
      "Loaded word2vec\n",
      "Training...\n",
      "Train begins with 1529 batches with 17 left over samples\n",
      "DialogWAE-basic|DailyDial@gpu0 epo:[1/80] iter:[100/305] step_time:96s elapsed:0:1:36<0:3:18 \n",
      "                      train_loss_AE:6.3835 train_loss_G:0.0125 train_loss_D:9.0303 \n",
      "DialogWAE-basic|DailyDial@gpu0 epo:[1/80] iter:[200/305] step_time:92s elapsed:0:3:9<0:1:40 \n",
      "                      train_loss_AE:5.5632 train_loss_G:0.0254 train_loss_D:9.1095 \n",
      "^C\n",
      "Traceback (most recent call last):\n",
      "  File \"train.py\", line 191, in <module>\n",
      "    loss_AE = model.train_AE(context, context_lens, utt_lens, floors, response, res_lens, anchor=anchor)\n",
      "  File \"/storage/cyhuang/DialogWAE_IRC_Removed_GMM/DialogWAE/models/dialogwae.py\", line 135, in train_AE\n",
      "    c = self.context_encoder(context, context_lens, utt_lens, floors, anchor=anchor)\n",
      "  File \"/storage/cyhuang/anaconda3/envs/dialogwae/lib/python3.6/site-packages/torch/nn/modules/module.py\", line 491, in __call__\n",
      "    result = self.forward(*input, **kwargs)\n",
      "  File \"/storage/cyhuang/DialogWAE_IRC_Removed_GMM/DialogWAE/modules.py\", line 322, in forward\n",
      "    his, h_n = self.update_hidden_state(message, initial_hidden)\n",
      "  File \"/storage/cyhuang/anaconda3/envs/dialogwae/lib/python3.6/site-packages/torch/nn/modules/module.py\", line 491, in __call__\n",
      "    result = self.forward(*input, **kwargs)\n",
      "  File \"/storage/cyhuang/anaconda3/envs/dialogwae/lib/python3.6/site-packages/torch/nn/modules/rnn.py\", line 192, in forward\n",
      "    output, hidden = func(input, self.all_weights, hx, batch_sizes)\n",
      "  File \"/storage/cyhuang/anaconda3/envs/dialogwae/lib/python3.6/site-packages/torch/nn/_functions/rnn.py\", line 323, in forward\n",
      "    return func(input, *fargs, **fkwargs)\n",
      "  File \"/storage/cyhuang/anaconda3/envs/dialogwae/lib/python3.6/site-packages/torch/nn/_functions/rnn.py\", line 287, in forward\n",
      "    dropout_ts)\n",
      "KeyboardInterrupt\n"
     ]
    }
   ],
   "source": [
    "!python3 train.py --visual --dataset DailyDial --model DialogWAE"
   ]
  },
  {
   "cell_type": "code",
   "execution_count": 3,
   "metadata": {},
   "outputs": [
    {
     "name": "stdout",
     "output_type": "stream",
     "text": [
      "nohup: ignoring input and appending output to 'nohup.out'\r\n"
     ]
    }
   ],
   "source": [
    "!nohup python3 train.py --visual --dataset DailyDial --model DialogWAE"
   ]
  },
  {
   "cell_type": "code",
   "execution_count": 4,
   "metadata": {
    "scrolled": true
   },
   "outputs": [
    {
     "name": "stdout",
     "output_type": "stream",
     "text": [
      "{'data_path': './data/', 'dataset': 'DailyDial', 'model': 'DialogWAE', 'expname': 'basic', 'reload_from': 44, 'anchor': 1, 'n_samples': 10, 'sample': False, 'seed': 1111}\n",
      "Max utt len 125, mean utt len 15.30\n",
      "Max utt len 91, mean utt len 14.83\n",
      "Max utt len 128, mean utt len 15.97\n",
      "Load corpus with train size 2, valid size 2, test size 2 raw vocab size 26510 vocab size 10000 at cut_off 3 OOV rate 0.024050\n",
      "<d> index 22\n",
      "<sil> index -1\n",
      "word2vec cannot cover 0.351730 vocab\n",
      "Done loading corpus\n",
      "Max len 192 and min len 3 and avg len 13.377465\n",
      "Test begins with 4039 batches with 0 left over samples\n",
      "Avg recall BLEU 0.566680, avg precision BLEU 0.288218, F1 0.382098, bow_extrema 0.529416, bow_avg 0.876657, bow_greedy 0.822975,    intra_dist1 0.715825, intra_dist2 0.810317, avg_len 17.331815, inter_dist1 0.257441, inter_dist2 0.450346 (only 1 ref, not final results)\n",
      "Done testing\n"
     ]
    }
   ],
   "source": [
    "!python3 sample.py --dataset DailyDial --model DialogWAE --reload_from 44"
   ]
  },
  {
   "cell_type": "code",
   "execution_count": null,
   "metadata": {},
   "outputs": [],
   "source": []
  }
 ],
 "metadata": {
  "kernelspec": {
   "display_name": "Python 3",
   "language": "python",
   "name": "python3"
  },
  "language_info": {
   "codemirror_mode": {
    "name": "ipython",
    "version": 3
   },
   "file_extension": ".py",
   "mimetype": "text/x-python",
   "name": "python",
   "nbconvert_exporter": "python",
   "pygments_lexer": "ipython3",
   "version": "3.6.10"
  }
 },
 "nbformat": 4,
 "nbformat_minor": 4
}
